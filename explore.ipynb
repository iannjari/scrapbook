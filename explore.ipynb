{
 "cells": [
  {
   "cell_type": "code",
   "execution_count": 1,
   "id": "de63ce83",
   "metadata": {},
   "outputs": [],
   "source": [
    "import requests\n",
    "import tarfile\n",
    "from os import path"
   ]
  },
  {
   "cell_type": "code",
   "execution_count": 2,
   "id": "1f217c3a",
   "metadata": {},
   "outputs": [
    {
     "data": {
      "text/plain": [
       "\"\\nfname = 'airline_2m.tar.gz'\\nurl = 'https://dax-cdn.cdn.appdomain.cloud/dax-airline/1.0.1/' + fname\\nr = requests.get(url)\\nopen(fname , 'wb').write(r.content)\\n\""
      ]
     },
     "execution_count": 2,
     "metadata": {},
     "output_type": "execute_result"
    }
   ],
   "source": [
    "# Downloading the dataset\n",
    "'''\n",
    "fname = 'airline_2m.tar.gz'\n",
    "url = 'https://dax-cdn.cdn.appdomain.cloud/dax-airline/1.0.1/' + fname\n",
    "r = requests.get(url)\n",
    "open(fname , 'wb').write(r.content)\n",
    "'''"
   ]
  },
  {
   "cell_type": "code",
   "execution_count": 3,
   "id": "4767e726",
   "metadata": {},
   "outputs": [
    {
     "data": {
      "text/plain": [
       "'tar = tarfile.open(fname)\\ntar.extractall()\\ntar.close()\\n'"
      ]
     },
     "execution_count": 3,
     "metadata": {},
     "output_type": "execute_result"
    }
   ],
   "source": [
    "# Extracting the dataset\n",
    "'''tar = tarfile.open(fname)\n",
    "tar.extractall()\n",
    "tar.close()\n",
    "'''"
   ]
  },
  {
   "cell_type": "code",
   "execution_count": 2,
   "id": "de866aad",
   "metadata": {},
   "outputs": [
    {
     "data": {
      "text/plain": [
       "True"
      ]
     },
     "execution_count": 2,
     "metadata": {},
     "output_type": "execute_result"
    }
   ],
   "source": [
    "# Verifying the file was extracted properly\n",
    "data_path = \"airline_2m.csv\"\n",
    "path.exists(data_path)"
   ]
  },
  {
   "cell_type": "code",
   "execution_count": 3,
   "id": "e07cba7d",
   "metadata": {},
   "outputs": [],
   "source": [
    "import pandas as pd "
   ]
  },
  {
   "cell_type": "code",
   "execution_count": 4,
   "id": "33735a86",
   "metadata": {},
   "outputs": [],
   "source": [
    "df = pd.read_csv(data_path, encoding = \"ISO-8859-1\",\n",
    "                 dtype={'Div1Airport': str, 'Div1TailNum': str, 'Div2Airport': str, 'Div2TailNum': str})"
   ]
  },
  {
   "cell_type": "code",
   "execution_count": 7,
   "id": "04af3b34",
   "metadata": {},
   "outputs": [
    {
     "data": {
      "text/plain": [
       "(2000000, 109)"
      ]
     },
     "execution_count": 7,
     "metadata": {},
     "output_type": "execute_result"
    }
   ],
   "source": [
    "df.shape"
   ]
  },
  {
   "cell_type": "code",
   "execution_count": 8,
   "id": "9556731f",
   "metadata": {},
   "outputs": [
    {
     "name": "stdout",
     "output_type": "stream",
     "text": [
      "<class 'pandas.core.frame.DataFrame'>\n",
      "RangeIndex: 2000000 entries, 0 to 1999999\n",
      "Columns: 109 entries, Year to Div5TailNum\n",
      "dtypes: float64(72), int64(18), object(19)\n",
      "memory usage: 1.6+ GB\n"
     ]
    }
   ],
   "source": [
    "df.info()"
   ]
  },
  {
   "cell_type": "code",
   "execution_count": 9,
   "id": "e2973315",
   "metadata": {},
   "outputs": [
    {
     "data": {
      "text/html": [
       "<div>\n",
       "<style scoped>\n",
       "    .dataframe tbody tr th:only-of-type {\n",
       "        vertical-align: middle;\n",
       "    }\n",
       "\n",
       "    .dataframe tbody tr th {\n",
       "        vertical-align: top;\n",
       "    }\n",
       "\n",
       "    .dataframe thead th {\n",
       "        text-align: right;\n",
       "    }\n",
       "</style>\n",
       "<table border=\"1\" class=\"dataframe\">\n",
       "  <thead>\n",
       "    <tr style=\"text-align: right;\">\n",
       "      <th></th>\n",
       "      <th>Unique</th>\n",
       "      <th>Count</th>\n",
       "    </tr>\n",
       "  </thead>\n",
       "  <tbody>\n",
       "    <tr>\n",
       "      <th>Year</th>\n",
       "      <td>34</td>\n",
       "      <td>2000000</td>\n",
       "    </tr>\n",
       "    <tr>\n",
       "      <th>Quarter</th>\n",
       "      <td>4</td>\n",
       "      <td>2000000</td>\n",
       "    </tr>\n",
       "    <tr>\n",
       "      <th>Month</th>\n",
       "      <td>12</td>\n",
       "      <td>2000000</td>\n",
       "    </tr>\n",
       "    <tr>\n",
       "      <th>DayofMonth</th>\n",
       "      <td>31</td>\n",
       "      <td>2000000</td>\n",
       "    </tr>\n",
       "    <tr>\n",
       "      <th>DayOfWeek</th>\n",
       "      <td>7</td>\n",
       "      <td>2000000</td>\n",
       "    </tr>\n",
       "    <tr>\n",
       "      <th>...</th>\n",
       "      <td>...</td>\n",
       "      <td>...</td>\n",
       "    </tr>\n",
       "    <tr>\n",
       "      <th>Div5WheelsOn</th>\n",
       "      <td>0</td>\n",
       "      <td>0</td>\n",
       "    </tr>\n",
       "    <tr>\n",
       "      <th>Div5TotalGTime</th>\n",
       "      <td>0</td>\n",
       "      <td>0</td>\n",
       "    </tr>\n",
       "    <tr>\n",
       "      <th>Div5LongestGTime</th>\n",
       "      <td>0</td>\n",
       "      <td>0</td>\n",
       "    </tr>\n",
       "    <tr>\n",
       "      <th>Div5WheelsOff</th>\n",
       "      <td>0</td>\n",
       "      <td>0</td>\n",
       "    </tr>\n",
       "    <tr>\n",
       "      <th>Div5TailNum</th>\n",
       "      <td>0</td>\n",
       "      <td>0</td>\n",
       "    </tr>\n",
       "  </tbody>\n",
       "</table>\n",
       "<p>109 rows × 2 columns</p>\n",
       "</div>"
      ],
      "text/plain": [
       "                  Unique    Count\n",
       "Year                  34  2000000\n",
       "Quarter                4  2000000\n",
       "Month                 12  2000000\n",
       "DayofMonth            31  2000000\n",
       "DayOfWeek              7  2000000\n",
       "...                  ...      ...\n",
       "Div5WheelsOn           0        0\n",
       "Div5TotalGTime         0        0\n",
       "Div5LongestGTime       0        0\n",
       "Div5WheelsOff          0        0\n",
       "Div5TailNum            0        0\n",
       "\n",
       "[109 rows x 2 columns]"
      ]
     },
     "execution_count": 9,
     "metadata": {},
     "output_type": "execute_result"
    }
   ],
   "source": [
    "df1=pd.DataFrame()\n",
    "df1['Unique']=pd.DataFrame(df.nunique())\n",
    "df1['Count']=pd.DataFrame(df.count())\n",
    "df1=df1.rename(columns={0: 'Unique'})\n",
    "df1.reset_index()\n",
    "df1"
   ]
  },
  {
   "cell_type": "code",
   "execution_count": 56,
   "id": "cd31f645",
   "metadata": {},
   "outputs": [],
   "source": [
    "#df1.to_csv('cases.csv')"
   ]
  },
  {
   "cell_type": "code",
   "execution_count": 3,
   "id": "bec4a0ac",
   "metadata": {},
   "outputs": [
    {
     "data": {
      "text/html": [
       "<div>\n",
       "<style scoped>\n",
       "    .dataframe tbody tr th:only-of-type {\n",
       "        vertical-align: middle;\n",
       "    }\n",
       "\n",
       "    .dataframe tbody tr th {\n",
       "        vertical-align: top;\n",
       "    }\n",
       "\n",
       "    .dataframe thead th {\n",
       "        text-align: right;\n",
       "    }\n",
       "</style>\n",
       "<table border=\"1\" class=\"dataframe\">\n",
       "  <thead>\n",
       "    <tr style=\"text-align: right;\">\n",
       "      <th></th>\n",
       "      <th>Column</th>\n",
       "      <th>Unique</th>\n",
       "      <th>Count</th>\n",
       "      <th>Categorical?</th>\n",
       "      <th>Needed?</th>\n",
       "    </tr>\n",
       "  </thead>\n",
       "  <tbody>\n",
       "    <tr>\n",
       "      <th>0</th>\n",
       "      <td>Year</td>\n",
       "      <td>34</td>\n",
       "      <td>2000000</td>\n",
       "      <td>1.0</td>\n",
       "      <td>1.0</td>\n",
       "    </tr>\n",
       "    <tr>\n",
       "      <th>1</th>\n",
       "      <td>Quarter</td>\n",
       "      <td>4</td>\n",
       "      <td>2000000</td>\n",
       "      <td>1.0</td>\n",
       "      <td>1.0</td>\n",
       "    </tr>\n",
       "    <tr>\n",
       "      <th>2</th>\n",
       "      <td>Month</td>\n",
       "      <td>12</td>\n",
       "      <td>2000000</td>\n",
       "      <td>1.0</td>\n",
       "      <td>1.0</td>\n",
       "    </tr>\n",
       "    <tr>\n",
       "      <th>3</th>\n",
       "      <td>DayofMonth</td>\n",
       "      <td>31</td>\n",
       "      <td>2000000</td>\n",
       "      <td>1.0</td>\n",
       "      <td>1.0</td>\n",
       "    </tr>\n",
       "    <tr>\n",
       "      <th>4</th>\n",
       "      <td>DayOfWeek</td>\n",
       "      <td>7</td>\n",
       "      <td>2000000</td>\n",
       "      <td>1.0</td>\n",
       "      <td>1.0</td>\n",
       "    </tr>\n",
       "    <tr>\n",
       "      <th>5</th>\n",
       "      <td>DOT_ID_Reporting_Airline</td>\n",
       "      <td>34</td>\n",
       "      <td>2000000</td>\n",
       "      <td>1.0</td>\n",
       "      <td>1.0</td>\n",
       "    </tr>\n",
       "    <tr>\n",
       "      <th>6</th>\n",
       "      <td>Flight_Number_Reporting_Airline</td>\n",
       "      <td>8050</td>\n",
       "      <td>2000000</td>\n",
       "      <td>1.0</td>\n",
       "      <td>1.0</td>\n",
       "    </tr>\n",
       "    <tr>\n",
       "      <th>7</th>\n",
       "      <td>OriginAirportID</td>\n",
       "      <td>407</td>\n",
       "      <td>2000000</td>\n",
       "      <td>1.0</td>\n",
       "      <td>1.0</td>\n",
       "    </tr>\n",
       "    <tr>\n",
       "      <th>8</th>\n",
       "      <td>OriginState</td>\n",
       "      <td>53</td>\n",
       "      <td>1999354</td>\n",
       "      <td>1.0</td>\n",
       "      <td>1.0</td>\n",
       "    </tr>\n",
       "    <tr>\n",
       "      <th>9</th>\n",
       "      <td>DestAirportID</td>\n",
       "      <td>409</td>\n",
       "      <td>2000000</td>\n",
       "      <td>1.0</td>\n",
       "      <td>1.0</td>\n",
       "    </tr>\n",
       "    <tr>\n",
       "      <th>10</th>\n",
       "      <td>DestState</td>\n",
       "      <td>53</td>\n",
       "      <td>1999406</td>\n",
       "      <td>1.0</td>\n",
       "      <td>1.0</td>\n",
       "    </tr>\n",
       "    <tr>\n",
       "      <th>11</th>\n",
       "      <td>DepTime</td>\n",
       "      <td>1436</td>\n",
       "      <td>1963995</td>\n",
       "      <td>NaN</td>\n",
       "      <td>NaN</td>\n",
       "    </tr>\n",
       "    <tr>\n",
       "      <th>12</th>\n",
       "      <td>Cancelled</td>\n",
       "      <td>2</td>\n",
       "      <td>2000000</td>\n",
       "      <td>1.0</td>\n",
       "      <td>NaN</td>\n",
       "    </tr>\n",
       "  </tbody>\n",
       "</table>\n",
       "</div>"
      ],
      "text/plain": [
       "                             Column  Unique    Count  Categorical?  Needed?\n",
       "0                              Year      34  2000000           1.0      1.0\n",
       "1                           Quarter       4  2000000           1.0      1.0\n",
       "2                             Month      12  2000000           1.0      1.0\n",
       "3                        DayofMonth      31  2000000           1.0      1.0\n",
       "4                         DayOfWeek       7  2000000           1.0      1.0\n",
       "5          DOT_ID_Reporting_Airline      34  2000000           1.0      1.0\n",
       "6   Flight_Number_Reporting_Airline    8050  2000000           1.0      1.0\n",
       "7                   OriginAirportID     407  2000000           1.0      1.0\n",
       "8                       OriginState      53  1999354           1.0      1.0\n",
       "9                     DestAirportID     409  2000000           1.0      1.0\n",
       "10                        DestState      53  1999406           1.0      1.0\n",
       "11                          DepTime    1436  1963995           NaN      NaN\n",
       "12                        Cancelled       2  2000000           1.0      NaN"
      ]
     },
     "execution_count": 3,
     "metadata": {},
     "output_type": "execute_result"
    }
   ],
   "source": [
    "df1=pd.read_csv('cases.csv')\n",
    "df1"
   ]
  },
  {
   "cell_type": "code",
   "execution_count": 4,
   "id": "05367f0b",
   "metadata": {},
   "outputs": [
    {
     "data": {
      "text/plain": [
       "0                                Year\n",
       "1                             Quarter\n",
       "2                               Month\n",
       "3                          DayofMonth\n",
       "4                           DayOfWeek\n",
       "5            DOT_ID_Reporting_Airline\n",
       "6     Flight_Number_Reporting_Airline\n",
       "7                     OriginAirportID\n",
       "8                         OriginState\n",
       "9                       DestAirportID\n",
       "10                          DestState\n",
       "11                            DepTime\n",
       "12                          Cancelled\n",
       "Name: Column, dtype: object"
      ]
     },
     "execution_count": 4,
     "metadata": {},
     "output_type": "execute_result"
    }
   ],
   "source": [
    "featurecols= pd.Series(df1['Column'])\n",
    "featurecols"
   ]
  },
  {
   "cell_type": "code",
   "execution_count": 4,
   "id": "edb33536",
   "metadata": {},
   "outputs": [
    {
     "data": {
      "text/plain": [
       "['Year',\n",
       " 'Quarter',\n",
       " 'Month',\n",
       " 'DayofMonth',\n",
       " 'DayOfWeek',\n",
       " 'DOT_ID_Reporting_Airline',\n",
       " 'Flight_Number_Reporting_Airline',\n",
       " 'OriginAirportID',\n",
       " 'OriginState',\n",
       " 'DestAirportID',\n",
       " 'DestState',\n",
       " 'DepTime',\n",
       " 'Cancelled']"
      ]
     },
     "execution_count": 4,
     "metadata": {},
     "output_type": "execute_result"
    }
   ],
   "source": [
    "featurecols= ['Year','Quarter',\n",
    "'Month','DayofMonth','DayOfWeek','DOT_ID_Reporting_Airline','Flight_Number_Reporting_Airline',\n",
    "'OriginAirportID','OriginState','DestAirportID','DestState','DepTime','Cancelled']\n",
    "featurecols"
   ]
  },
  {
   "cell_type": "code",
   "execution_count": 6,
   "id": "d7ddee5f",
   "metadata": {},
   "outputs": [],
   "source": [
    "featuredata=df[featurecols]\n",
    "featuredata.to_csv('featuredata.csv',index=False)"
   ]
  },
  {
   "cell_type": "code",
   "execution_count": 5,
   "id": "88f4e16c",
   "metadata": {},
   "outputs": [
    {
     "data": {
      "text/html": [
       "<div>\n",
       "<style scoped>\n",
       "    .dataframe tbody tr th:only-of-type {\n",
       "        vertical-align: middle;\n",
       "    }\n",
       "\n",
       "    .dataframe tbody tr th {\n",
       "        vertical-align: top;\n",
       "    }\n",
       "\n",
       "    .dataframe thead th {\n",
       "        text-align: right;\n",
       "    }\n",
       "</style>\n",
       "<table border=\"1\" class=\"dataframe\">\n",
       "  <thead>\n",
       "    <tr style=\"text-align: right;\">\n",
       "      <th></th>\n",
       "      <th>Year</th>\n",
       "      <th>Quarter</th>\n",
       "      <th>Month</th>\n",
       "      <th>DayofMonth</th>\n",
       "      <th>DayOfWeek</th>\n",
       "      <th>DOT_ID_Reporting_Airline</th>\n",
       "      <th>Flight_Number_Reporting_Airline</th>\n",
       "      <th>OriginAirportID</th>\n",
       "      <th>OriginState</th>\n",
       "      <th>DestAirportID</th>\n",
       "      <th>DestState</th>\n",
       "      <th>DepTime</th>\n",
       "      <th>Cancelled</th>\n",
       "    </tr>\n",
       "  </thead>\n",
       "  <tbody>\n",
       "    <tr>\n",
       "      <th>0</th>\n",
       "      <td>1998</td>\n",
       "      <td>1</td>\n",
       "      <td>1</td>\n",
       "      <td>2</td>\n",
       "      <td>5</td>\n",
       "      <td>19386</td>\n",
       "      <td>675</td>\n",
       "      <td>13487</td>\n",
       "      <td>MN</td>\n",
       "      <td>14869</td>\n",
       "      <td>UT</td>\n",
       "      <td>1659.0</td>\n",
       "      <td>0.0</td>\n",
       "    </tr>\n",
       "    <tr>\n",
       "      <th>1</th>\n",
       "      <td>2009</td>\n",
       "      <td>2</td>\n",
       "      <td>5</td>\n",
       "      <td>28</td>\n",
       "      <td>4</td>\n",
       "      <td>20437</td>\n",
       "      <td>671</td>\n",
       "      <td>13342</td>\n",
       "      <td>WI</td>\n",
       "      <td>13204</td>\n",
       "      <td>FL</td>\n",
       "      <td>1202.0</td>\n",
       "      <td>0.0</td>\n",
       "    </tr>\n",
       "    <tr>\n",
       "      <th>2</th>\n",
       "      <td>2013</td>\n",
       "      <td>2</td>\n",
       "      <td>6</td>\n",
       "      <td>29</td>\n",
       "      <td>6</td>\n",
       "      <td>20398</td>\n",
       "      <td>3297</td>\n",
       "      <td>11921</td>\n",
       "      <td>CO</td>\n",
       "      <td>11298</td>\n",
       "      <td>TX</td>\n",
       "      <td>1644.0</td>\n",
       "      <td>0.0</td>\n",
       "    </tr>\n",
       "    <tr>\n",
       "      <th>3</th>\n",
       "      <td>2010</td>\n",
       "      <td>3</td>\n",
       "      <td>8</td>\n",
       "      <td>31</td>\n",
       "      <td>2</td>\n",
       "      <td>19790</td>\n",
       "      <td>1806</td>\n",
       "      <td>12892</td>\n",
       "      <td>CA</td>\n",
       "      <td>11433</td>\n",
       "      <td>MI</td>\n",
       "      <td>1305.0</td>\n",
       "      <td>0.0</td>\n",
       "    </tr>\n",
       "    <tr>\n",
       "      <th>4</th>\n",
       "      <td>2006</td>\n",
       "      <td>1</td>\n",
       "      <td>1</td>\n",
       "      <td>15</td>\n",
       "      <td>7</td>\n",
       "      <td>20355</td>\n",
       "      <td>465</td>\n",
       "      <td>11618</td>\n",
       "      <td>NJ</td>\n",
       "      <td>11057</td>\n",
       "      <td>NC</td>\n",
       "      <td>1911.0</td>\n",
       "      <td>0.0</td>\n",
       "    </tr>\n",
       "    <tr>\n",
       "      <th>...</th>\n",
       "      <td>...</td>\n",
       "      <td>...</td>\n",
       "      <td>...</td>\n",
       "      <td>...</td>\n",
       "      <td>...</td>\n",
       "      <td>...</td>\n",
       "      <td>...</td>\n",
       "      <td>...</td>\n",
       "      <td>...</td>\n",
       "      <td>...</td>\n",
       "      <td>...</td>\n",
       "      <td>...</td>\n",
       "      <td>...</td>\n",
       "    </tr>\n",
       "    <tr>\n",
       "      <th>1999995</th>\n",
       "      <td>2008</td>\n",
       "      <td>1</td>\n",
       "      <td>3</td>\n",
       "      <td>23</td>\n",
       "      <td>7</td>\n",
       "      <td>19393</td>\n",
       "      <td>966</td>\n",
       "      <td>12889</td>\n",
       "      <td>NV</td>\n",
       "      <td>14107</td>\n",
       "      <td>AZ</td>\n",
       "      <td>1444.0</td>\n",
       "      <td>0.0</td>\n",
       "    </tr>\n",
       "    <tr>\n",
       "      <th>1999996</th>\n",
       "      <td>1999</td>\n",
       "      <td>1</td>\n",
       "      <td>1</td>\n",
       "      <td>5</td>\n",
       "      <td>2</td>\n",
       "      <td>19704</td>\n",
       "      <td>529</td>\n",
       "      <td>11618</td>\n",
       "      <td>NJ</td>\n",
       "      <td>11298</td>\n",
       "      <td>TX</td>\n",
       "      <td>945.0</td>\n",
       "      <td>0.0</td>\n",
       "    </tr>\n",
       "    <tr>\n",
       "      <th>1999997</th>\n",
       "      <td>2003</td>\n",
       "      <td>4</td>\n",
       "      <td>11</td>\n",
       "      <td>14</td>\n",
       "      <td>5</td>\n",
       "      <td>20355</td>\n",
       "      <td>1457</td>\n",
       "      <td>10994</td>\n",
       "      <td>SC</td>\n",
       "      <td>11057</td>\n",
       "      <td>NC</td>\n",
       "      <td>1219.0</td>\n",
       "      <td>0.0</td>\n",
       "    </tr>\n",
       "    <tr>\n",
       "      <th>1999998</th>\n",
       "      <td>2012</td>\n",
       "      <td>2</td>\n",
       "      <td>5</td>\n",
       "      <td>15</td>\n",
       "      <td>2</td>\n",
       "      <td>19393</td>\n",
       "      <td>536</td>\n",
       "      <td>13232</td>\n",
       "      <td>IL</td>\n",
       "      <td>10693</td>\n",
       "      <td>TN</td>\n",
       "      <td>1838.0</td>\n",
       "      <td>0.0</td>\n",
       "    </tr>\n",
       "    <tr>\n",
       "      <th>1999999</th>\n",
       "      <td>2003</td>\n",
       "      <td>2</td>\n",
       "      <td>4</td>\n",
       "      <td>29</td>\n",
       "      <td>2</td>\n",
       "      <td>19977</td>\n",
       "      <td>1241</td>\n",
       "      <td>12264</td>\n",
       "      <td>VA</td>\n",
       "      <td>13930</td>\n",
       "      <td>IL</td>\n",
       "      <td>1610.0</td>\n",
       "      <td>0.0</td>\n",
       "    </tr>\n",
       "  </tbody>\n",
       "</table>\n",
       "<p>2000000 rows × 13 columns</p>\n",
       "</div>"
      ],
      "text/plain": [
       "         Year  Quarter  Month  DayofMonth  DayOfWeek  \\\n",
       "0        1998        1      1           2          5   \n",
       "1        2009        2      5          28          4   \n",
       "2        2013        2      6          29          6   \n",
       "3        2010        3      8          31          2   \n",
       "4        2006        1      1          15          7   \n",
       "...       ...      ...    ...         ...        ...   \n",
       "1999995  2008        1      3          23          7   \n",
       "1999996  1999        1      1           5          2   \n",
       "1999997  2003        4     11          14          5   \n",
       "1999998  2012        2      5          15          2   \n",
       "1999999  2003        2      4          29          2   \n",
       "\n",
       "         DOT_ID_Reporting_Airline  Flight_Number_Reporting_Airline  \\\n",
       "0                           19386                              675   \n",
       "1                           20437                              671   \n",
       "2                           20398                             3297   \n",
       "3                           19790                             1806   \n",
       "4                           20355                              465   \n",
       "...                           ...                              ...   \n",
       "1999995                     19393                              966   \n",
       "1999996                     19704                              529   \n",
       "1999997                     20355                             1457   \n",
       "1999998                     19393                              536   \n",
       "1999999                     19977                             1241   \n",
       "\n",
       "         OriginAirportID OriginState  DestAirportID DestState  DepTime  \\\n",
       "0                  13487          MN          14869        UT   1659.0   \n",
       "1                  13342          WI          13204        FL   1202.0   \n",
       "2                  11921          CO          11298        TX   1644.0   \n",
       "3                  12892          CA          11433        MI   1305.0   \n",
       "4                  11618          NJ          11057        NC   1911.0   \n",
       "...                  ...         ...            ...       ...      ...   \n",
       "1999995            12889          NV          14107        AZ   1444.0   \n",
       "1999996            11618          NJ          11298        TX    945.0   \n",
       "1999997            10994          SC          11057        NC   1219.0   \n",
       "1999998            13232          IL          10693        TN   1838.0   \n",
       "1999999            12264          VA          13930        IL   1610.0   \n",
       "\n",
       "         Cancelled  \n",
       "0              0.0  \n",
       "1              0.0  \n",
       "2              0.0  \n",
       "3              0.0  \n",
       "4              0.0  \n",
       "...            ...  \n",
       "1999995        0.0  \n",
       "1999996        0.0  \n",
       "1999997        0.0  \n",
       "1999998        0.0  \n",
       "1999999        0.0  \n",
       "\n",
       "[2000000 rows x 13 columns]"
      ]
     },
     "execution_count": 5,
     "metadata": {},
     "output_type": "execute_result"
    }
   ],
   "source": [
    "featuredata=pd.read_csv('featuredata.csv')\n",
    "featuredata"
   ]
  },
  {
   "cell_type": "code",
   "execution_count": 6,
   "id": "6da5386f",
   "metadata": {},
   "outputs": [],
   "source": [
    "target_name = \"Cancelled\"\n",
    "target = featuredata[target_name]\n",
    "\n",
    "data = featuredata.drop(columns=[target_name])"
   ]
  },
  {
   "cell_type": "code",
   "execution_count": 7,
   "id": "703236ac",
   "metadata": {},
   "outputs": [
    {
     "data": {
      "text/plain": [
       "0.0    1963538\n",
       "1.0      36462\n",
       "Name: Cancelled, dtype: int64"
      ]
     },
     "execution_count": 7,
     "metadata": {},
     "output_type": "execute_result"
    }
   ],
   "source": [
    "target.value_counts()"
   ]
  },
  {
   "cell_type": "code",
   "execution_count": 9,
   "id": "4db43277",
   "metadata": {},
   "outputs": [
    {
     "data": {
      "text/plain": [
       "<2000000x10533 sparse matrix of type '<class 'numpy.float64'>'\n",
       "\twith 24000000 stored elements in Compressed Sparse Row format>"
      ]
     },
     "execution_count": 9,
     "metadata": {},
     "output_type": "execute_result"
    }
   ],
   "source": [
    "from sklearn.preprocessing import OneHotEncoder\n",
    "\n",
    "encoder = OneHotEncoder()\n",
    "encoded_data = encoder.fit_transform(data)\n",
    "encoded_data"
   ]
  },
  {
   "cell_type": "code",
   "execution_count": 8,
   "id": "560225ed",
   "metadata": {},
   "outputs": [
    {
     "data": {
      "text/plain": [
       "0.981769"
      ]
     },
     "execution_count": 8,
     "metadata": {},
     "output_type": "execute_result"
    }
   ],
   "source": [
    "from sklearn.dummy import DummyClassifier\n",
    "dummy_clf = DummyClassifier(strategy=\"most_frequent\")\n",
    "dummy_clf.fit(data, target)\n",
    "dummy_clf.predict(data)\n",
    "dummy_clf.score(data, target)"
   ]
  },
  {
   "cell_type": "code",
   "execution_count": 10,
   "id": "ebcfcb51",
   "metadata": {},
   "outputs": [
    {
     "name": "stderr",
     "output_type": "stream",
     "text": [
      "C:\\Users\\ianmo\\AppData\\Local\\Packages\\PythonSoftwareFoundation.Python.3.9_qbz5n2kfra8p0\\LocalCache\\local-packages\\Python39\\site-packages\\sklearn\\linear_model\\_logistic.py:763: ConvergenceWarning: lbfgs failed to converge (status=1):\n",
      "STOP: TOTAL NO. of ITERATIONS REACHED LIMIT.\n",
      "\n",
      "Increase the number of iterations (max_iter) or scale the data as shown in:\n",
      "    https://scikit-learn.org/stable/modules/preprocessing.html\n",
      "Please also refer to the documentation for alternative solver options:\n",
      "    https://scikit-learn.org/stable/modules/linear_model.html#logistic-regression\n",
      "  n_iter_i = _check_optimize_result(\n",
      "C:\\Users\\ianmo\\AppData\\Local\\Packages\\PythonSoftwareFoundation.Python.3.9_qbz5n2kfra8p0\\LocalCache\\local-packages\\Python39\\site-packages\\sklearn\\linear_model\\_logistic.py:763: ConvergenceWarning: lbfgs failed to converge (status=1):\n",
      "STOP: TOTAL NO. of ITERATIONS REACHED LIMIT.\n",
      "\n",
      "Increase the number of iterations (max_iter) or scale the data as shown in:\n",
      "    https://scikit-learn.org/stable/modules/preprocessing.html\n",
      "Please also refer to the documentation for alternative solver options:\n",
      "    https://scikit-learn.org/stable/modules/linear_model.html#logistic-regression\n",
      "  n_iter_i = _check_optimize_result(\n",
      "C:\\Users\\ianmo\\AppData\\Local\\Packages\\PythonSoftwareFoundation.Python.3.9_qbz5n2kfra8p0\\LocalCache\\local-packages\\Python39\\site-packages\\sklearn\\linear_model\\_logistic.py:763: ConvergenceWarning: lbfgs failed to converge (status=1):\n",
      "STOP: TOTAL NO. of ITERATIONS REACHED LIMIT.\n",
      "\n",
      "Increase the number of iterations (max_iter) or scale the data as shown in:\n",
      "    https://scikit-learn.org/stable/modules/preprocessing.html\n",
      "Please also refer to the documentation for alternative solver options:\n",
      "    https://scikit-learn.org/stable/modules/linear_model.html#logistic-regression\n",
      "  n_iter_i = _check_optimize_result(\n",
      "C:\\Users\\ianmo\\AppData\\Local\\Packages\\PythonSoftwareFoundation.Python.3.9_qbz5n2kfra8p0\\LocalCache\\local-packages\\Python39\\site-packages\\sklearn\\linear_model\\_logistic.py:763: ConvergenceWarning: lbfgs failed to converge (status=1):\n",
      "STOP: TOTAL NO. of ITERATIONS REACHED LIMIT.\n",
      "\n",
      "Increase the number of iterations (max_iter) or scale the data as shown in:\n",
      "    https://scikit-learn.org/stable/modules/preprocessing.html\n",
      "Please also refer to the documentation for alternative solver options:\n",
      "    https://scikit-learn.org/stable/modules/linear_model.html#logistic-regression\n",
      "  n_iter_i = _check_optimize_result(\n"
     ]
    },
    {
     "data": {
      "text/plain": [
       "{'fit_time': array([28.27259564, 26.23114657, 27.34582686, 26.5112834 , 30.94209528,\n",
       "        30.74092197, 28.64060044, 26.54478645, 26.90173197, 27.51094055]),\n",
       " 'score_time': array([0.36379695, 0.34371567, 0.387115  , 0.39059663, 0.53008986,\n",
       "        0.36796784, 0.43131137, 0.3437438 , 0.38505864, 0.39057875]),\n",
       " 'estimator': [Pipeline(steps=[('onehotencoder', OneHotEncoder(handle_unknown='ignore')),\n",
       "                  ('logisticregression', LogisticRegression())]),\n",
       "  Pipeline(steps=[('onehotencoder', OneHotEncoder(handle_unknown='ignore')),\n",
       "                  ('logisticregression', LogisticRegression())]),\n",
       "  Pipeline(steps=[('onehotencoder', OneHotEncoder(handle_unknown='ignore')),\n",
       "                  ('logisticregression', LogisticRegression())]),\n",
       "  Pipeline(steps=[('onehotencoder', OneHotEncoder(handle_unknown='ignore')),\n",
       "                  ('logisticregression', LogisticRegression())]),\n",
       "  Pipeline(steps=[('onehotencoder', OneHotEncoder(handle_unknown='ignore')),\n",
       "                  ('logisticregression', LogisticRegression())]),\n",
       "  Pipeline(steps=[('onehotencoder', OneHotEncoder(handle_unknown='ignore')),\n",
       "                  ('logisticregression', LogisticRegression())]),\n",
       "  Pipeline(steps=[('onehotencoder', OneHotEncoder(handle_unknown='ignore')),\n",
       "                  ('logisticregression', LogisticRegression())]),\n",
       "  Pipeline(steps=[('onehotencoder', OneHotEncoder(handle_unknown='ignore')),\n",
       "                  ('logisticregression', LogisticRegression())]),\n",
       "  Pipeline(steps=[('onehotencoder', OneHotEncoder(handle_unknown='ignore')),\n",
       "                  ('logisticregression', LogisticRegression())]),\n",
       "  Pipeline(steps=[('onehotencoder', OneHotEncoder(handle_unknown='ignore')),\n",
       "                  ('logisticregression', LogisticRegression())])],\n",
       " 'test_score': array([0.999785, 0.99977 , 0.99976 , 0.99981 , 0.99981 , 0.99978 ,\n",
       "        0.99977 , 0.99969 , 0.999795, 0.999745])}"
      ]
     },
     "execution_count": 10,
     "metadata": {},
     "output_type": "execute_result"
    }
   ],
   "source": [
    "from sklearn.pipeline import make_pipeline\n",
    "from sklearn.preprocessing import OneHotEncoder\n",
    "from sklearn.linear_model import LogisticRegression\n",
    "\n",
    "logistic_regression = make_pipeline(\n",
    "    OneHotEncoder(handle_unknown = 'ignore'), LogisticRegression()\n",
    ")\n",
    "\n",
    "\n",
    "from sklearn.model_selection import cross_validate\n",
    "cv_results = cross_validate(\n",
    "    logistic_regression, data, target, cv=10,return_estimator=True)\n",
    "\n",
    "cv_results"
   ]
  },
  {
   "cell_type": "code",
   "execution_count": 11,
   "id": "75aa74fa",
   "metadata": {},
   "outputs": [
    {
     "data": {
      "text/plain": [
       "0.9997715000000001"
      ]
     },
     "execution_count": 11,
     "metadata": {},
     "output_type": "execute_result"
    }
   ],
   "source": [
    "array=cv_results[\"test_score\"]\n",
    "array.mean()"
   ]
  },
  {
   "cell_type": "code",
   "execution_count": null,
   "id": "9e4b2c37",
   "metadata": {},
   "outputs": [],
   "source": []
  }
 ],
 "metadata": {
  "kernelspec": {
   "display_name": "Python 3 (ipykernel)",
   "language": "python",
   "name": "python3"
  },
  "language_info": {
   "codemirror_mode": {
    "name": "ipython",
    "version": 3
   },
   "file_extension": ".py",
   "mimetype": "text/x-python",
   "name": "python",
   "nbconvert_exporter": "python",
   "pygments_lexer": "ipython3",
   "version": "3.9.6"
  }
 },
 "nbformat": 4,
 "nbformat_minor": 5
}
