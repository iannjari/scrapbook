{
  "nbformat": 4,
  "nbformat_minor": 0,
  "metadata": {
    "colab": {
      "name": "Untitled3.ipynb",
      "provenance": [],
      "authorship_tag": "ABX9TyOeImqY2EC7kFmMZk91v70W",
      "include_colab_link": true
    },
    "kernelspec": {
      "name": "python3",
      "display_name": "Python 3"
    },
    "language_info": {
      "name": "python"
    }
  },
  "cells": [
    {
      "cell_type": "markdown",
      "metadata": {
        "id": "view-in-github",
        "colab_type": "text"
      },
      "source": [
        "<a href=\"https://colab.research.google.com/github/iannjari/scrapbook/blob/main/Untitled3.ipynb\" target=\"_parent\"><img src=\"https://colab.research.google.com/assets/colab-badge.svg\" alt=\"Open In Colab\"/></a>"
      ]
    },
    {
      "cell_type": "code",
      "metadata": {
        "colab": {
          "base_uri": "https://localhost:8080/",
          "height": 423
        },
        "id": "FPqZq15tPFa_",
        "outputId": "7fadc5f0-e94b-4c19-e68e-df3be814bda5"
      },
      "source": [
        "import pandas as pd\n",
        "path='https://raw.githubusercontent.com/iannjari/datasets/main/diabetes.csv'\n",
        "df=pd.read_csv('heart.csv')\n",
        "df"
      ],
      "execution_count": 97,
      "outputs": [
        {
          "output_type": "execute_result",
          "data": {
            "text/html": [
              "<div>\n",
              "<style scoped>\n",
              "    .dataframe tbody tr th:only-of-type {\n",
              "        vertical-align: middle;\n",
              "    }\n",
              "\n",
              "    .dataframe tbody tr th {\n",
              "        vertical-align: top;\n",
              "    }\n",
              "\n",
              "    .dataframe thead th {\n",
              "        text-align: right;\n",
              "    }\n",
              "</style>\n",
              "<table border=\"1\" class=\"dataframe\">\n",
              "  <thead>\n",
              "    <tr style=\"text-align: right;\">\n",
              "      <th></th>\n",
              "      <th>Age</th>\n",
              "      <th>Sex</th>\n",
              "      <th>ChestPainType</th>\n",
              "      <th>RestingBP</th>\n",
              "      <th>Cholesterol</th>\n",
              "      <th>FastingBS</th>\n",
              "      <th>RestingECG</th>\n",
              "      <th>MaxHR</th>\n",
              "      <th>ExerciseAngina</th>\n",
              "      <th>Oldpeak</th>\n",
              "      <th>ST_Slope</th>\n",
              "      <th>HeartDisease</th>\n",
              "    </tr>\n",
              "  </thead>\n",
              "  <tbody>\n",
              "    <tr>\n",
              "      <th>0</th>\n",
              "      <td>40</td>\n",
              "      <td>M</td>\n",
              "      <td>ATA</td>\n",
              "      <td>140</td>\n",
              "      <td>289</td>\n",
              "      <td>0</td>\n",
              "      <td>Normal</td>\n",
              "      <td>172</td>\n",
              "      <td>N</td>\n",
              "      <td>0.0</td>\n",
              "      <td>Up</td>\n",
              "      <td>0</td>\n",
              "    </tr>\n",
              "    <tr>\n",
              "      <th>1</th>\n",
              "      <td>49</td>\n",
              "      <td>F</td>\n",
              "      <td>NAP</td>\n",
              "      <td>160</td>\n",
              "      <td>180</td>\n",
              "      <td>0</td>\n",
              "      <td>Normal</td>\n",
              "      <td>156</td>\n",
              "      <td>N</td>\n",
              "      <td>1.0</td>\n",
              "      <td>Flat</td>\n",
              "      <td>1</td>\n",
              "    </tr>\n",
              "    <tr>\n",
              "      <th>2</th>\n",
              "      <td>37</td>\n",
              "      <td>M</td>\n",
              "      <td>ATA</td>\n",
              "      <td>130</td>\n",
              "      <td>283</td>\n",
              "      <td>0</td>\n",
              "      <td>ST</td>\n",
              "      <td>98</td>\n",
              "      <td>N</td>\n",
              "      <td>0.0</td>\n",
              "      <td>Up</td>\n",
              "      <td>0</td>\n",
              "    </tr>\n",
              "    <tr>\n",
              "      <th>3</th>\n",
              "      <td>48</td>\n",
              "      <td>F</td>\n",
              "      <td>ASY</td>\n",
              "      <td>138</td>\n",
              "      <td>214</td>\n",
              "      <td>0</td>\n",
              "      <td>Normal</td>\n",
              "      <td>108</td>\n",
              "      <td>Y</td>\n",
              "      <td>1.5</td>\n",
              "      <td>Flat</td>\n",
              "      <td>1</td>\n",
              "    </tr>\n",
              "    <tr>\n",
              "      <th>4</th>\n",
              "      <td>54</td>\n",
              "      <td>M</td>\n",
              "      <td>NAP</td>\n",
              "      <td>150</td>\n",
              "      <td>195</td>\n",
              "      <td>0</td>\n",
              "      <td>Normal</td>\n",
              "      <td>122</td>\n",
              "      <td>N</td>\n",
              "      <td>0.0</td>\n",
              "      <td>Up</td>\n",
              "      <td>0</td>\n",
              "    </tr>\n",
              "    <tr>\n",
              "      <th>...</th>\n",
              "      <td>...</td>\n",
              "      <td>...</td>\n",
              "      <td>...</td>\n",
              "      <td>...</td>\n",
              "      <td>...</td>\n",
              "      <td>...</td>\n",
              "      <td>...</td>\n",
              "      <td>...</td>\n",
              "      <td>...</td>\n",
              "      <td>...</td>\n",
              "      <td>...</td>\n",
              "      <td>...</td>\n",
              "    </tr>\n",
              "    <tr>\n",
              "      <th>913</th>\n",
              "      <td>45</td>\n",
              "      <td>M</td>\n",
              "      <td>TA</td>\n",
              "      <td>110</td>\n",
              "      <td>264</td>\n",
              "      <td>0</td>\n",
              "      <td>Normal</td>\n",
              "      <td>132</td>\n",
              "      <td>N</td>\n",
              "      <td>1.2</td>\n",
              "      <td>Flat</td>\n",
              "      <td>1</td>\n",
              "    </tr>\n",
              "    <tr>\n",
              "      <th>914</th>\n",
              "      <td>68</td>\n",
              "      <td>M</td>\n",
              "      <td>ASY</td>\n",
              "      <td>144</td>\n",
              "      <td>193</td>\n",
              "      <td>1</td>\n",
              "      <td>Normal</td>\n",
              "      <td>141</td>\n",
              "      <td>N</td>\n",
              "      <td>3.4</td>\n",
              "      <td>Flat</td>\n",
              "      <td>1</td>\n",
              "    </tr>\n",
              "    <tr>\n",
              "      <th>915</th>\n",
              "      <td>57</td>\n",
              "      <td>M</td>\n",
              "      <td>ASY</td>\n",
              "      <td>130</td>\n",
              "      <td>131</td>\n",
              "      <td>0</td>\n",
              "      <td>Normal</td>\n",
              "      <td>115</td>\n",
              "      <td>Y</td>\n",
              "      <td>1.2</td>\n",
              "      <td>Flat</td>\n",
              "      <td>1</td>\n",
              "    </tr>\n",
              "    <tr>\n",
              "      <th>916</th>\n",
              "      <td>57</td>\n",
              "      <td>F</td>\n",
              "      <td>ATA</td>\n",
              "      <td>130</td>\n",
              "      <td>236</td>\n",
              "      <td>0</td>\n",
              "      <td>LVH</td>\n",
              "      <td>174</td>\n",
              "      <td>N</td>\n",
              "      <td>0.0</td>\n",
              "      <td>Flat</td>\n",
              "      <td>1</td>\n",
              "    </tr>\n",
              "    <tr>\n",
              "      <th>917</th>\n",
              "      <td>38</td>\n",
              "      <td>M</td>\n",
              "      <td>NAP</td>\n",
              "      <td>138</td>\n",
              "      <td>175</td>\n",
              "      <td>0</td>\n",
              "      <td>Normal</td>\n",
              "      <td>173</td>\n",
              "      <td>N</td>\n",
              "      <td>0.0</td>\n",
              "      <td>Up</td>\n",
              "      <td>0</td>\n",
              "    </tr>\n",
              "  </tbody>\n",
              "</table>\n",
              "<p>918 rows × 12 columns</p>\n",
              "</div>"
            ],
            "text/plain": [
              "     Age Sex ChestPainType  ...  Oldpeak  ST_Slope  HeartDisease\n",
              "0     40   M           ATA  ...      0.0        Up             0\n",
              "1     49   F           NAP  ...      1.0      Flat             1\n",
              "2     37   M           ATA  ...      0.0        Up             0\n",
              "3     48   F           ASY  ...      1.5      Flat             1\n",
              "4     54   M           NAP  ...      0.0        Up             0\n",
              "..   ...  ..           ...  ...      ...       ...           ...\n",
              "913   45   M            TA  ...      1.2      Flat             1\n",
              "914   68   M           ASY  ...      3.4      Flat             1\n",
              "915   57   M           ASY  ...      1.2      Flat             1\n",
              "916   57   F           ATA  ...      0.0      Flat             1\n",
              "917   38   M           NAP  ...      0.0        Up             0\n",
              "\n",
              "[918 rows x 12 columns]"
            ]
          },
          "metadata": {},
          "execution_count": 97
        }
      ]
    },
    {
      "cell_type": "code",
      "metadata": {
        "id": "xPIX00HmRBBu"
      },
      "source": [
        "target_name='HeartDisease'\n",
        "target=df[target_name]\n",
        "data=df.drop(columns=target_name)\n",
        "x,y=data,target"
      ],
      "execution_count": 98,
      "outputs": []
    },
    {
      "cell_type": "code",
      "metadata": {
        "colab": {
          "base_uri": "https://localhost:8080/"
        },
        "id": "gK70-T_WPQGk",
        "outputId": "cc921b74-dcbd-48c1-f5ca-3689beef6fb4"
      },
      "source": [
        "from sklearn.pipeline import Pipeline\n",
        "from sklearn.preprocessing import StandardScaler, OneHotEncoder\n",
        "from sklearn.compose import ColumnTransformer\n",
        "from sklearn.impute import SimpleImputer\n",
        "from sklearn.linear_model import LogisticRegression\n",
        "from sklearn.model_selection import train_test_split\n",
        "\n",
        "numeric_features = [\"Age\", \"RestingBP\",'Cholesterol','MaxHR','Oldpeak']\n",
        "numeric_transformer = Pipeline(\n",
        "    steps=[(\"imputer\", SimpleImputer(strategy=\"most_frequent\")), (\"scaler\", StandardScaler())]\n",
        ")\n",
        "\n",
        "categorical_features = [\"Sex\", \"ChestPainType\", \"FastingBS\",'RestingECG','ExerciseAngina','ST_Slope']\n",
        "categorical_transformer = OneHotEncoder(handle_unknown=\"ignore\")\n",
        "\n",
        "preprocessor = ColumnTransformer(\n",
        "    transformers=[\n",
        "        (\"num\", numeric_transformer, numeric_features),\n",
        "        (\"cat\", categorical_transformer, categorical_features),\n",
        "    ]\n",
        ")\n",
        "\n",
        "# Append classifier to preprocessing pipeline.\n",
        "# Now we have a full prediction pipeline.\n",
        "clf = Pipeline(\n",
        "    steps=[(\"preprocessor\", preprocessor), (\"classifier\", LogisticRegression())]\n",
        ")\n",
        "\n",
        "x_train, x_test, y_train, y_test = train_test_split(x, y, test_size=0.2, random_state=0)\n",
        "\n",
        "clf.fit(x_train, y_train)\n",
        "print(\"model score: %.3f\" % clf.score(x_test, y_test))"
      ],
      "execution_count": 99,
      "outputs": [
        {
          "output_type": "stream",
          "name": "stdout",
          "text": [
            "model score: 0.826\n"
          ]
        }
      ]
    },
    {
      "cell_type": "code",
      "metadata": {
        "colab": {
          "base_uri": "https://localhost:8080/"
        },
        "id": "_2ClT2yITaJr",
        "outputId": "a16db878-3ca9-4f95-8fac-fc8123e5dea4"
      },
      "source": [
        "!pip install skl2onnx"
      ],
      "execution_count": 100,
      "outputs": [
        {
          "output_type": "stream",
          "name": "stdout",
          "text": [
            "Requirement already satisfied: skl2onnx in /usr/local/lib/python3.7/dist-packages (1.10.2)\n",
            "Requirement already satisfied: protobuf in /usr/local/lib/python3.7/dist-packages (from skl2onnx) (3.17.3)\n",
            "Requirement already satisfied: scipy>=1.0 in /usr/local/lib/python3.7/dist-packages (from skl2onnx) (1.4.1)\n",
            "Requirement already satisfied: onnx>=1.2.1 in /usr/local/lib/python3.7/dist-packages (from skl2onnx) (1.10.2)\n",
            "Requirement already satisfied: numpy>=1.15 in /usr/local/lib/python3.7/dist-packages (from skl2onnx) (1.19.5)\n",
            "Requirement already satisfied: onnxconverter-common>=1.7.0 in /usr/local/lib/python3.7/dist-packages (from skl2onnx) (1.8.1)\n",
            "Requirement already satisfied: scikit-learn>=0.19 in /usr/local/lib/python3.7/dist-packages (from skl2onnx) (1.0.1)\n",
            "Requirement already satisfied: six in /usr/local/lib/python3.7/dist-packages (from onnx>=1.2.1->skl2onnx) (1.15.0)\n",
            "Requirement already satisfied: typing-extensions>=3.6.2.1 in /usr/local/lib/python3.7/dist-packages (from onnx>=1.2.1->skl2onnx) (3.10.0.2)\n",
            "Requirement already satisfied: threadpoolctl>=2.0.0 in /usr/local/lib/python3.7/dist-packages (from scikit-learn>=0.19->skl2onnx) (3.0.0)\n",
            "Requirement already satisfied: joblib>=0.11 in /usr/local/lib/python3.7/dist-packages (from scikit-learn>=0.19->skl2onnx) (1.1.0)\n"
          ]
        }
      ]
    },
    {
      "cell_type": "code",
      "metadata": {
        "id": "oHTP08N8TlcZ"
      },
      "source": [
        "import skl2onnx \n",
        "from skl2onnx import convert_sklearn\n",
        "from skl2onnx.common.data_types import FloatTensorType\n",
        "\n",
        "\n",
        "\n",
        "initial_types =  [('feature_input', FloatTensorType([None, 8]))]\n",
        "\n",
        "onx =skl2onnx.to_onnx(clf,X=x_test)\n",
        "\n",
        "with open(\"reg.onnx\", \"wb\") as f:\n",
        "    f.write(onx.SerializeToString())"
      ],
      "execution_count": 101,
      "outputs": []
    },
    {
      "cell_type": "code",
      "metadata": {
        "id": "aAIXAkcvWVIq"
      },
      "source": [
        "from sklearn.pipeline import Pipeline\n",
        "from sklearn.preprocessing import StandardScaler, OneHotEncoder\n",
        "from sklearn.compose import ColumnTransformer\n",
        "from sklearn.impute import SimpleImputer\n",
        "from sklearn.linear_model import LogisticRegression\n",
        "from sklearn.model_selection import train_test_split\n",
        "from sklearn.ensemble import (RandomForestClassifier, StackingClassifier, GradientBoostingClassifier)\n",
        "from sklearn.neighbors import KNeighborsClassifier\n"
      ],
      "execution_count": 102,
      "outputs": []
    },
    {
      "cell_type": "code",
      "metadata": {
        "id": "6oQWy_gqXssN"
      },
      "source": [
        "clf=StackingClassifier(estimators=[\n",
        "            (\"rf\",RandomForestClassifier(n_estimators=10,random_state=42)),\n",
        "            (\"gb\",GradientBoostingClassifier(n_estimators=10,random_state=42)),\n",
        "            (\"knn\",KNeighborsClassifier(n_neighbors=5))],final_estimator=LogisticRegression())"
      ],
      "execution_count": 103,
      "outputs": []
    },
    {
      "cell_type": "code",
      "metadata": {
        "colab": {
          "base_uri": "https://localhost:8080/"
        },
        "id": "hHGA42ndXnLV",
        "outputId": "890dfc79-e962-4ae2-d481-9d7362eec5cc"
      },
      "source": [
        "\n",
        "\n",
        "numeric_features = [\"Age\", \"RestingBP\",'Cholesterol','MaxHR','Oldpeak']\n",
        "numeric_transformer = Pipeline(\n",
        "    steps=[(\"imputer\", SimpleImputer(strategy=\"most_frequent\")), (\"scaler\", StandardScaler())]\n",
        ")\n",
        "\n",
        "categorical_features = [\"Sex\", \"ChestPainType\", \"FastingBS\",'RestingECG','ExerciseAngina','ST_Slope']\n",
        "categorical_transformer = OneHotEncoder(handle_unknown=\"ignore\")\n",
        "\n",
        "preprocessor = ColumnTransformer(\n",
        "    transformers=[\n",
        "        (\"num\", numeric_transformer, numeric_features),\n",
        "        (\"cat\", categorical_transformer, categorical_features),\n",
        "    ]\n",
        ")\n",
        "\n",
        "# Append classifier to preprocessing pipeline.\n",
        "# Now we have a full prediction pipeline.\n",
        "\n",
        "from sklearn.pipeline import make_pipeline\n",
        "pipeline = Pipeline(\n",
        "    steps=[(\"preprocessor\", preprocessor), (\"classifier\", clf)]\n",
        ")\n",
        "\n",
        "x_train, x_test, y_train, y_test = train_test_split(x, y, test_size=0.2, random_state=0)\n",
        "\n",
        "pipeline.fit(x_train, y_train)\n",
        "print(\"model score: %.3f\" % pipeline.score(x_test, y_test))\n"
      ],
      "execution_count": 104,
      "outputs": [
        {
          "output_type": "stream",
          "name": "stdout",
          "text": [
            "model score: 0.848\n"
          ]
        }
      ]
    },
    {
      "cell_type": "code",
      "metadata": {
        "colab": {
          "base_uri": "https://localhost:8080/"
        },
        "id": "b3CwUTp7Yt2o",
        "outputId": "cea0c9d8-e3a5-4ec8-d49e-eae88aa9ef45"
      },
      "source": [
        "import skl2onnx \n",
        "from skl2onnx import convert_sklearn\n",
        "\n",
        "\n",
        "\n",
        "\n",
        "initial_types =  [('feature_input', FloatTensorType([None, 8]))]\n",
        "\n",
        "onx =skl2onnx.to_onnx(pipeline,X=x_test)\n",
        "\n",
        "with open(\"stack.onnx\", \"wb\") as f:\n",
        "    f.write(onx.SerializeToString())\n"
      ],
      "execution_count": 105,
      "outputs": [
        {
          "output_type": "stream",
          "name": "stderr",
          "text": [
            "/usr/local/lib/python3.7/dist-packages/sklearn/utils/deprecation.py:103: FutureWarning: The attribute `n_features_` is deprecated in 1.0 and will be removed in 1.2. Use `n_features_in_` instead.\n",
            "  warnings.warn(msg, category=FutureWarning)\n"
          ]
        }
      ]
    },
    {
      "cell_type": "code",
      "metadata": {
        "colab": {
          "base_uri": "https://localhost:8080/",
          "height": 87
        },
        "id": "GRzbrQljZB4v",
        "outputId": "1bf6e06a-27b7-4545-d3f2-3e2437b0a0ef"
      },
      "source": [
        "#from skl2onnx.common.data_types import FloatTensorType, StringTensorType, Int64TensorType\n",
        "\n",
        "'''initial_types =  [('feature_input', Int64TensorType([None, 1])),\n",
        "                  ('feature_input', StringTensorType([None, 2])),\n",
        "                  ('feature_input', Int64TensorType([None, 3])),\n",
        "                  ('feature_input', StringTensorType([None, 1])),\n",
        "                  ('feature_input', Int64TensorType([None, 1])),\n",
        "                  ('feature_input', StringTensorType([None, 1])),\n",
        "                  ('feature_input', FloatTensorType([None, 1])),\n",
        "                  ('feature_input', StringTensorType([None, 1]))]\n",
        "'''\n",
        "\n",
        "# Not allowed by onnx when a ColumnTransformer is used, so won't work\n",
        "# See http://onnx.ai/sklearn-onnx/_modules/skl2onnx/convert.html for more\n",
        "\n",
        "#onx = convert_sklearn(pipeline,initial_types=initial_types)\n",
        "\n",
        "#with open(\"stacked_clf.onnx\", \"wb\") as f:\n",
        "#    f.write(onx.SerializeToString())"
      ],
      "execution_count": 106,
      "outputs": [
        {
          "output_type": "execute_result",
          "data": {
            "application/vnd.google.colaboratory.intrinsic+json": {
              "type": "string"
            },
            "text/plain": [
              "\"initial_types =  [('feature_input', Int64TensorType([None, 1])),\\n                  ('feature_input', StringTensorType([None, 2])),\\n                  ('feature_input', Int64TensorType([None, 3])),\\n                  ('feature_input', StringTensorType([None, 1])),\\n                  ('feature_input', Int64TensorType([None, 1])),\\n                  ('feature_input', StringTensorType([None, 1])),\\n                  ('feature_input', FloatTensorType([None, 1])),\\n                  ('feature_input', StringTensorType([None, 1]))]\\n\""
            ]
          },
          "metadata": {},
          "execution_count": 106
        }
      ]
    },
    {
      "cell_type": "code",
      "metadata": {
        "colab": {
          "base_uri": "https://localhost:8080/"
        },
        "id": "Wuim4MJfhYML",
        "outputId": "2005e6f6-dffb-44e8-b0b5-dcd3497b1414"
      },
      "source": [
        "!pip install onnxruntime"
      ],
      "execution_count": 107,
      "outputs": [
        {
          "output_type": "stream",
          "name": "stdout",
          "text": [
            "Requirement already satisfied: onnxruntime in /usr/local/lib/python3.7/dist-packages (1.9.0)\n",
            "Requirement already satisfied: protobuf in /usr/local/lib/python3.7/dist-packages (from onnxruntime) (3.17.3)\n",
            "Requirement already satisfied: numpy>=1.16.6 in /usr/local/lib/python3.7/dist-packages (from onnxruntime) (1.19.5)\n",
            "Requirement already satisfied: flatbuffers in /usr/local/lib/python3.7/dist-packages (from onnxruntime) (2.0)\n",
            "Requirement already satisfied: six>=1.9 in /usr/local/lib/python3.7/dist-packages (from protobuf->onnxruntime) (1.15.0)\n"
          ]
        }
      ]
    },
    {
      "cell_type": "code",
      "metadata": {
        "id": "X9ITtStKamCM"
      },
      "source": [
        ""
      ],
      "execution_count": 107,
      "outputs": []
    },
    {
      "cell_type": "code",
      "metadata": {
        "colab": {
          "base_uri": "https://localhost:8080/"
        },
        "id": "o8sIbFBnh0Or",
        "outputId": "23d919d0-2c0a-46ca-93a1-a003d9f996b1"
      },
      "source": [
        "def convert_dataframe_schema(df, drop=None):\n",
        "    inputs = []\n",
        "    for k, v in zip(df.columns, df.dtypes):\n",
        "        if drop is not None and k in drop:\n",
        "            continue\n",
        "        if v == 'int64':\n",
        "            t = Int64TensorType([None, 1])\n",
        "        elif v == 'float64':\n",
        "            t = FloatTensorType([None, 1])\n",
        "        else:\n",
        "            t = StringTensorType([None, 1])\n",
        "        inputs.append((k, t))\n",
        "    return inputs\n",
        "\n",
        "\n",
        "inputs = convert_dataframe_schema(x_train)\n",
        "\n",
        "for i in inputs:\n",
        "  print(i)"
      ],
      "execution_count": 108,
      "outputs": [
        {
          "output_type": "stream",
          "name": "stdout",
          "text": [
            "('Age', Int64TensorType(shape=[None, 1]))\n",
            "('Sex', StringTensorType(shape=[None, 1]))\n",
            "('ChestPainType', StringTensorType(shape=[None, 1]))\n",
            "('RestingBP', Int64TensorType(shape=[None, 1]))\n",
            "('Cholesterol', Int64TensorType(shape=[None, 1]))\n",
            "('FastingBS', Int64TensorType(shape=[None, 1]))\n",
            "('RestingECG', StringTensorType(shape=[None, 1]))\n",
            "('MaxHR', Int64TensorType(shape=[None, 1]))\n",
            "('ExerciseAngina', StringTensorType(shape=[None, 1]))\n",
            "('Oldpeak', FloatTensorType(shape=[None, 1]))\n",
            "('ST_Slope', StringTensorType(shape=[None, 1]))\n"
          ]
        }
      ]
    },
    {
      "cell_type": "code",
      "metadata": {
        "id": "QzGHDj6Oy1YV"
      },
      "source": [
        ""
      ],
      "execution_count": 108,
      "outputs": []
    },
    {
      "cell_type": "code",
      "metadata": {
        "colab": {
          "base_uri": "https://localhost:8080/",
          "height": 423
        },
        "id": "UgcMdmyx0J7f",
        "outputId": "2cf1bfbf-f489-4e8d-d71c-a61f84cbcf9c"
      },
      "source": [
        "x_test"
      ],
      "execution_count": 109,
      "outputs": [
        {
          "output_type": "execute_result",
          "data": {
            "text/html": [
              "<div>\n",
              "<style scoped>\n",
              "    .dataframe tbody tr th:only-of-type {\n",
              "        vertical-align: middle;\n",
              "    }\n",
              "\n",
              "    .dataframe tbody tr th {\n",
              "        vertical-align: top;\n",
              "    }\n",
              "\n",
              "    .dataframe thead th {\n",
              "        text-align: right;\n",
              "    }\n",
              "</style>\n",
              "<table border=\"1\" class=\"dataframe\">\n",
              "  <thead>\n",
              "    <tr style=\"text-align: right;\">\n",
              "      <th></th>\n",
              "      <th>Age</th>\n",
              "      <th>Sex</th>\n",
              "      <th>ChestPainType</th>\n",
              "      <th>RestingBP</th>\n",
              "      <th>Cholesterol</th>\n",
              "      <th>FastingBS</th>\n",
              "      <th>RestingECG</th>\n",
              "      <th>MaxHR</th>\n",
              "      <th>ExerciseAngina</th>\n",
              "      <th>Oldpeak</th>\n",
              "      <th>ST_Slope</th>\n",
              "    </tr>\n",
              "  </thead>\n",
              "  <tbody>\n",
              "    <tr>\n",
              "      <th>306</th>\n",
              "      <td>55</td>\n",
              "      <td>M</td>\n",
              "      <td>ASY</td>\n",
              "      <td>115</td>\n",
              "      <td>0</td>\n",
              "      <td>1</td>\n",
              "      <td>Normal</td>\n",
              "      <td>155</td>\n",
              "      <td>N</td>\n",
              "      <td>0.1</td>\n",
              "      <td>Flat</td>\n",
              "    </tr>\n",
              "    <tr>\n",
              "      <th>711</th>\n",
              "      <td>66</td>\n",
              "      <td>M</td>\n",
              "      <td>ASY</td>\n",
              "      <td>120</td>\n",
              "      <td>302</td>\n",
              "      <td>0</td>\n",
              "      <td>LVH</td>\n",
              "      <td>151</td>\n",
              "      <td>N</td>\n",
              "      <td>0.4</td>\n",
              "      <td>Flat</td>\n",
              "    </tr>\n",
              "    <tr>\n",
              "      <th>298</th>\n",
              "      <td>51</td>\n",
              "      <td>M</td>\n",
              "      <td>ASY</td>\n",
              "      <td>110</td>\n",
              "      <td>0</td>\n",
              "      <td>1</td>\n",
              "      <td>Normal</td>\n",
              "      <td>92</td>\n",
              "      <td>N</td>\n",
              "      <td>0.0</td>\n",
              "      <td>Flat</td>\n",
              "    </tr>\n",
              "    <tr>\n",
              "      <th>466</th>\n",
              "      <td>55</td>\n",
              "      <td>M</td>\n",
              "      <td>NAP</td>\n",
              "      <td>120</td>\n",
              "      <td>0</td>\n",
              "      <td>0</td>\n",
              "      <td>ST</td>\n",
              "      <td>125</td>\n",
              "      <td>Y</td>\n",
              "      <td>2.5</td>\n",
              "      <td>Flat</td>\n",
              "    </tr>\n",
              "    <tr>\n",
              "      <th>253</th>\n",
              "      <td>62</td>\n",
              "      <td>M</td>\n",
              "      <td>ATA</td>\n",
              "      <td>140</td>\n",
              "      <td>271</td>\n",
              "      <td>0</td>\n",
              "      <td>Normal</td>\n",
              "      <td>152</td>\n",
              "      <td>N</td>\n",
              "      <td>1.0</td>\n",
              "      <td>Up</td>\n",
              "    </tr>\n",
              "    <tr>\n",
              "      <th>...</th>\n",
              "      <td>...</td>\n",
              "      <td>...</td>\n",
              "      <td>...</td>\n",
              "      <td>...</td>\n",
              "      <td>...</td>\n",
              "      <td>...</td>\n",
              "      <td>...</td>\n",
              "      <td>...</td>\n",
              "      <td>...</td>\n",
              "      <td>...</td>\n",
              "      <td>...</td>\n",
              "    </tr>\n",
              "    <tr>\n",
              "      <th>909</th>\n",
              "      <td>63</td>\n",
              "      <td>F</td>\n",
              "      <td>ASY</td>\n",
              "      <td>124</td>\n",
              "      <td>197</td>\n",
              "      <td>0</td>\n",
              "      <td>Normal</td>\n",
              "      <td>136</td>\n",
              "      <td>Y</td>\n",
              "      <td>0.0</td>\n",
              "      <td>Flat</td>\n",
              "    </tr>\n",
              "    <tr>\n",
              "      <th>293</th>\n",
              "      <td>65</td>\n",
              "      <td>M</td>\n",
              "      <td>ASY</td>\n",
              "      <td>115</td>\n",
              "      <td>0</td>\n",
              "      <td>0</td>\n",
              "      <td>Normal</td>\n",
              "      <td>93</td>\n",
              "      <td>Y</td>\n",
              "      <td>0.0</td>\n",
              "      <td>Flat</td>\n",
              "    </tr>\n",
              "    <tr>\n",
              "      <th>761</th>\n",
              "      <td>52</td>\n",
              "      <td>M</td>\n",
              "      <td>ASY</td>\n",
              "      <td>112</td>\n",
              "      <td>230</td>\n",
              "      <td>0</td>\n",
              "      <td>Normal</td>\n",
              "      <td>160</td>\n",
              "      <td>N</td>\n",
              "      <td>0.0</td>\n",
              "      <td>Up</td>\n",
              "    </tr>\n",
              "    <tr>\n",
              "      <th>2</th>\n",
              "      <td>37</td>\n",
              "      <td>M</td>\n",
              "      <td>ATA</td>\n",
              "      <td>130</td>\n",
              "      <td>283</td>\n",
              "      <td>0</td>\n",
              "      <td>ST</td>\n",
              "      <td>98</td>\n",
              "      <td>N</td>\n",
              "      <td>0.0</td>\n",
              "      <td>Up</td>\n",
              "    </tr>\n",
              "    <tr>\n",
              "      <th>409</th>\n",
              "      <td>53</td>\n",
              "      <td>M</td>\n",
              "      <td>NAP</td>\n",
              "      <td>160</td>\n",
              "      <td>0</td>\n",
              "      <td>1</td>\n",
              "      <td>LVH</td>\n",
              "      <td>122</td>\n",
              "      <td>Y</td>\n",
              "      <td>0.0</td>\n",
              "      <td>Flat</td>\n",
              "    </tr>\n",
              "  </tbody>\n",
              "</table>\n",
              "<p>184 rows × 11 columns</p>\n",
              "</div>"
            ],
            "text/plain": [
              "     Age Sex ChestPainType  RestingBP  ...  MaxHR  ExerciseAngina Oldpeak  ST_Slope\n",
              "306   55   M           ASY        115  ...    155               N     0.1      Flat\n",
              "711   66   M           ASY        120  ...    151               N     0.4      Flat\n",
              "298   51   M           ASY        110  ...     92               N     0.0      Flat\n",
              "466   55   M           NAP        120  ...    125               Y     2.5      Flat\n",
              "253   62   M           ATA        140  ...    152               N     1.0        Up\n",
              "..   ...  ..           ...        ...  ...    ...             ...     ...       ...\n",
              "909   63   F           ASY        124  ...    136               Y     0.0      Flat\n",
              "293   65   M           ASY        115  ...     93               Y     0.0      Flat\n",
              "761   52   M           ASY        112  ...    160               N     0.0        Up\n",
              "2     37   M           ATA        130  ...     98               N     0.0        Up\n",
              "409   53   M           NAP        160  ...    122               Y     0.0      Flat\n",
              "\n",
              "[184 rows x 11 columns]"
            ]
          },
          "metadata": {},
          "execution_count": 109
        }
      ]
    }
  ]
}